{
 "cells": [
  {
   "cell_type": "code",
   "execution_count": 26,
   "metadata": {},
   "outputs": [
    {
     "name": "stdout",
     "output_type": "stream",
     "text": [
      "Requirement already satisfied: selenium in c:\\users\\franc\\anaconda3\\lib\\site-packages (3.141.0)\n",
      "Requirement already satisfied: urllib3 in c:\\users\\franc\\anaconda3\\lib\\site-packages (from selenium) (1.25.9)\n",
      "Note: you may need to restart the kernel to use updated packages.\n"
     ]
    }
   ],
   "source": [
    "pip install selenium\n"
   ]
  },
  {
   "cell_type": "code",
   "execution_count": 27,
   "metadata": {},
   "outputs": [],
   "source": [
    "import time"
   ]
  },
  {
   "cell_type": "code",
   "execution_count": 28,
   "metadata": {},
   "outputs": [],
   "source": [
    "import selenium"
   ]
  },
  {
   "cell_type": "code",
   "execution_count": 29,
   "metadata": {},
   "outputs": [],
   "source": [
    "from selenium import webdriver"
   ]
  },
  {
   "cell_type": "code",
   "execution_count": 30,
   "metadata": {},
   "outputs": [],
   "source": [
    "PATH=\"C:\\Owler\\chromedriver.exe\""
   ]
  },
  {
   "cell_type": "code",
   "execution_count": 31,
   "metadata": {},
   "outputs": [],
   "source": [
    "driver= webdriver.Chrome(PATH)"
   ]
  },
  {
   "cell_type": "code",
   "execution_count": 32,
   "metadata": {},
   "outputs": [],
   "source": [
    "driver.get(\"https://styliff.com/work\")"
   ]
  },
  {
   "cell_type": "code",
   "execution_count": 33,
   "metadata": {},
   "outputs": [
    {
     "name": "stdout",
     "output_type": "stream",
     "text": [
      "Our Work | Styliff Tech\n"
     ]
    }
   ],
   "source": [
    "print(driver.title)"
   ]
  },
  {
   "cell_type": "code",
   "execution_count": 34,
   "metadata": {},
   "outputs": [],
   "source": [
    "ids = driver.find_elements_by_xpath('//a[@class=\"liquid-overlay-link\"]')"
   ]
  },
  {
   "cell_type": "code",
   "execution_count": 35,
   "metadata": {},
   "outputs": [],
   "source": [
    "projects=[]\n",
    "for i in ids:\n",
    "    projects.append(i.get_attribute(\"href\"))"
   ]
  },
  {
   "cell_type": "code",
   "execution_count": 22,
   "metadata": {},
   "outputs": [
    {
     "data": {
      "text/plain": [
       "['https://styliff.com/portfolio/dropless/',\n",
       " 'https://styliff.com/portfolio/gocrypto/',\n",
       " 'https://styliff.com/portfolio/rga/',\n",
       " 'https://styliff.com/portfolio/shop-2-play/',\n",
       " 'https://styliff.com/portfolio/snapshop/',\n",
       " 'https://styliff.com/portfolio/track/',\n",
       " 'https://styliff.com/portfolio/rtb/',\n",
       " 'https://styliff.com/portfolio/lidl/',\n",
       " 'https://styliff.com/portfolio/amo/',\n",
       " 'https://styliff.com/portfolio/talenttin/',\n",
       " 'https://styliff.com/portfolio/shiken/',\n",
       " 'https://styliff.com/portfolio/equal-group/']"
      ]
     },
     "execution_count": 22,
     "metadata": {},
     "output_type": "execute_result"
    }
   ],
   "source": [
    "projects"
   ]
  },
  {
   "cell_type": "code",
   "execution_count": 41,
   "metadata": {
    "scrolled": true
   },
   "outputs": [
    {
     "name": "stdout",
     "output_type": "stream",
     "text": [
      "{'dropless': {'project': 'dropless', 'date': '2020', 'client': 'Dropless Ltd', 'category': 'Car Services', 'description': 'Just add your car’s location and tap to dispatch the provider to come wherever your car is located. With a smart remote key, the user can grant access to the service to perform the job.&nbsp;'}, 'gocrypto': {'project': 'gocrypto', 'date': '2019', 'client': 'Eligma Ltd', 'category': 'Crypto Payments', 'description': 'The new guidelines help them express their positioning, personality, and vision. Along with this, it provides direction for illustration, video and photography, as well as the visual and verbal standards that we refined to define their new brand identity.<br>\\n'}, 'rga': {'project': 'rga', 'date': '2017', 'client': 'Reinsurance Group of America', 'category': 'Insurance, Enterprise, Wellness', 'description': '<em>‘Immediately winning over the judges with their slick, cutting edge technology. The technology had an approachable front end and clever risk modelling at the backend.’</em>'}, 'shop-2-play': {'project': 'shop-2-play', 'date': '2018', 'client': 'Snowball Ltd', 'category': 'Lottery, Ecommerce', 'description': 'To highlight the lottery element of this shopping concept, we used animated characters that were inspired by internet nostalgia and old school gaming. The blue colour and thumbnails connects to the real word of the retailers.'}, 'snapshop': {'project': 'snapshop', 'date': '2018', 'client': 'SnapShop Ltd', 'category': 'Fashion', 'description': ''}, 'track': {'project': 'track', 'date': '2018', 'client': 'Track Innovations Ltd', 'category': 'Finance', 'description': '<em>‘At Shiken our mission is to make learning as easy and stress-free as possible. The Styliff team was a great fit for us as working with them has also been easy and stress-free and allowed us to quickly scale our tech team and hit our KPIs and development goals on time. Styliff’s collaborative approach enabled quick integration into our existing dev and ops team and they immediately understood what was required. What we especially love about Styliff is their design-led approach which has helped to build on and optimise our existing UX.’</em>'}, 'rtb': {'project': 'rtb', 'date': '2019', 'client': 'Diversity Films Ltd', 'category': 'Lifestyle', 'description': '<em>‘At Shiken our mission is to make learning as easy and stress-free as possible. The Styliff team was a great fit for us as working with them has also been easy and stress-free and allowed us to quickly scale our tech team and hit our KPIs and development goals on time. Styliff’s collaborative approach enabled quick integration into our existing dev and ops team and they immediately understood what was required. What we especially love about Styliff is their design-led approach which has helped to build on and optimise our existing UX.’</em>'}, 'lidl': {'project': 'lidl', 'date': '2017', 'client': 'Lidl', 'category': 'Enterprise', 'description': '<em>‘We partner only with the most innovative companies and Styliff is completely changing the workwear ordering process.’</em>'}, 'amo': {'project': 'amo', 'date': '2020', 'client': 'Amo Ventures Ltd', 'category': 'Wellness', 'description': ''}, 'talenttin': {'project': 'talenttin', 'date': '2019', 'client': 'Talent Tin Ltd', 'category': 'Fashion', 'description': '<em>‘At Shiken our mission is to make learning as easy and stress-free as possible. The Styliff team was a great fit for us as working with them has also been easy and stress-free and allowed us to quickly scale our tech team and hit our KPIs and development goals on time. Styliff’s collaborative approach enabled quick integration into our existing dev and ops team and they immediately understood what was required. What we especially love about Styliff is their design-led approach which has helped to build on and optimise our existing UX.’</em>'}, 'shiken': {'project': 'shiken', 'date': '2019', 'client': 'Meddicle Ltd', 'category': 'Med Tech', 'description': '<em>‘At Shiken our mission is to make learning as easy and stress-free as possible. The Styliff team was a great fit for us as working with them has also been easy and stress-free and allowed us to quickly scale our tech team and hit our KPIs and development goals on time. Styliff’s collaborative approach enabled quick integration into our existing dev and ops team and they immediately understood what was required. What we especially love about Styliff is their design-led approach which has helped to build on and optimise our existing UX.’</em>'}, 'equal-group': {'project': 'equal-group', 'date': '2019', 'client': 'Equal Group Corporation Ltd', 'category': 'HR, Enterprise', 'description': 'We employed a visual design aiming to be attractive, user friendly and professional to revolutionise the hiring process as we know it.'}}\n"
     ]
    }
   ],
   "source": [
    "dictionary = {}\n",
    "for project in projects:\n",
    "    time.sleep(1)\n",
    "    driver.get(project)\n",
    "    pro=driver.find_elements_by_xpath('//p[contains(@class,\"vc_custom_heading vc_custom_\")]')\n",
    "    desc = driver.find_elements_by_xpath(\"//span[contains(@class,'ld-fh-txt')]/span\")\n",
    "    dictionary[project.split(\"/\")[-2]]= {\n",
    "        \"project\": project.split(\"/\")[-2],\n",
    "        \"date\":pro[0].get_attribute(\"innerHTML\"),\n",
    "        \"client\":pro[1].get_attribute(\"innerHTML\"),\n",
    "        \"category\":pro[2].get_attribute(\"innerHTML\"),\n",
    "        \"description\":\"\"\n",
    "    }\n",
    "    try:\n",
    "        if desc[len(desc)-1].get_attribute(\"innerHTML\"):\n",
    "            dictionary[project.split(\"/\")[-2]][\"description\"] = desc[len(desc)-1].get_attribute(\"innerHTML\")\n",
    "    except Exception as e:\n",
    "        pass\n",
    "        \n",
    "print(dictionary)        \n",
    "    \n",
    "        \n",
    "       \n",
    "    "
   ]
  },
  {
   "cell_type": "code",
   "execution_count": 42,
   "metadata": {},
   "outputs": [],
   "source": [
    "import json"
   ]
  },
  {
   "cell_type": "code",
   "execution_count": 43,
   "metadata": {},
   "outputs": [],
   "source": [
    "dict_json=json.dumps(dictionary)"
   ]
  },
  {
   "cell_type": "code",
   "execution_count": 44,
   "metadata": {},
   "outputs": [
    {
     "name": "stdout",
     "output_type": "stream",
     "text": [
      "{\"dropless\": {\"project\": \"dropless\", \"date\": \"2020\", \"client\": \"Dropless Ltd\", \"category\": \"Car Services\", \"description\": \"Just add your car\\u2019s location and tap to dispatch the provider to come wherever your car is located. With a smart remote key, the user can grant access to the service to perform the job.&nbsp;\"}, \"gocrypto\": {\"project\": \"gocrypto\", \"date\": \"2019\", \"client\": \"Eligma Ltd\", \"category\": \"Crypto Payments\", \"description\": \"The new guidelines help them express their positioning, personality, and vision. Along with this, it provides direction for illustration, video and photography, as well as the visual and verbal standards that we refined to define their new brand identity.<br>\\n\"}, \"rga\": {\"project\": \"rga\", \"date\": \"2017\", \"client\": \"Reinsurance Group of America\", \"category\": \"Insurance, Enterprise, Wellness\", \"description\": \"<em>\\u2018Immediately winning over the judges with their slick, cutting edge technology. The technology had an approachable front end and clever risk modelling at the backend.\\u2019</em>\"}, \"shop-2-play\": {\"project\": \"shop-2-play\", \"date\": \"2018\", \"client\": \"Snowball Ltd\", \"category\": \"Lottery, Ecommerce\", \"description\": \"To highlight the lottery element of this shopping concept, we used animated characters that were inspired by internet nostalgia and old school gaming. The blue colour and thumbnails connects to the real word of the retailers.\"}, \"snapshop\": {\"project\": \"snapshop\", \"date\": \"2018\", \"client\": \"SnapShop Ltd\", \"category\": \"Fashion\", \"description\": \"\"}, \"track\": {\"project\": \"track\", \"date\": \"2018\", \"client\": \"Track Innovations Ltd\", \"category\": \"Finance\", \"description\": \"<em>\\u2018At Shiken our mission is to make learning as easy and stress-free as possible. The Styliff team was a great fit for us as working with them has also been easy and stress-free and allowed us to quickly scale our tech team and hit our KPIs and development goals on time. Styliff\\u2019s collaborative approach enabled quick integration into our existing dev and ops team and they immediately understood what was required. What we especially love about Styliff is their design-led approach which has helped to build on and optimise our existing UX.\\u2019</em>\"}, \"rtb\": {\"project\": \"rtb\", \"date\": \"2019\", \"client\": \"Diversity Films Ltd\", \"category\": \"Lifestyle\", \"description\": \"<em>\\u2018At Shiken our mission is to make learning as easy and stress-free as possible. The Styliff team was a great fit for us as working with them has also been easy and stress-free and allowed us to quickly scale our tech team and hit our KPIs and development goals on time. Styliff\\u2019s collaborative approach enabled quick integration into our existing dev and ops team and they immediately understood what was required. What we especially love about Styliff is their design-led approach which has helped to build on and optimise our existing UX.\\u2019</em>\"}, \"lidl\": {\"project\": \"lidl\", \"date\": \"2017\", \"client\": \"Lidl\", \"category\": \"Enterprise\", \"description\": \"<em>\\u2018We partner only with the most innovative companies and Styliff is completely changing the workwear ordering process.\\u2019</em>\"}, \"amo\": {\"project\": \"amo\", \"date\": \"2020\", \"client\": \"Amo Ventures Ltd\", \"category\": \"Wellness\", \"description\": \"\"}, \"talenttin\": {\"project\": \"talenttin\", \"date\": \"2019\", \"client\": \"Talent Tin Ltd\", \"category\": \"Fashion\", \"description\": \"<em>\\u2018At Shiken our mission is to make learning as easy and stress-free as possible. The Styliff team was a great fit for us as working with them has also been easy and stress-free and allowed us to quickly scale our tech team and hit our KPIs and development goals on time. Styliff\\u2019s collaborative approach enabled quick integration into our existing dev and ops team and they immediately understood what was required. What we especially love about Styliff is their design-led approach which has helped to build on and optimise our existing UX.\\u2019</em>\"}, \"shiken\": {\"project\": \"shiken\", \"date\": \"2019\", \"client\": \"Meddicle Ltd\", \"category\": \"Med Tech\", \"description\": \"<em>\\u2018At Shiken our mission is to make learning as easy and stress-free as possible. The Styliff team was a great fit for us as working with them has also been easy and stress-free and allowed us to quickly scale our tech team and hit our KPIs and development goals on time. Styliff\\u2019s collaborative approach enabled quick integration into our existing dev and ops team and they immediately understood what was required. What we especially love about Styliff is their design-led approach which has helped to build on and optimise our existing UX.\\u2019</em>\"}, \"equal-group\": {\"project\": \"equal-group\", \"date\": \"2019\", \"client\": \"Equal Group Corporation Ltd\", \"category\": \"HR, Enterprise\", \"description\": \"We employed a visual design aiming to be attractive, user friendly and professional to revolutionise the hiring process as we know it.\"}}\n"
     ]
    }
   ],
   "source": [
    "print(dict_json)"
   ]
  },
  {
   "cell_type": "code",
   "execution_count": 45,
   "metadata": {},
   "outputs": [],
   "source": [
    "out_file=open(\"Styliff_crawl.json\",\"w\")\n",
    "json.dump(dictionary,out_file,indent=6)\n",
    "out_file.close()"
   ]
  },
  {
   "cell_type": "code",
   "execution_count": null,
   "metadata": {},
   "outputs": [],
   "source": []
  }
 ],
 "metadata": {
  "kernelspec": {
   "display_name": "Python 3",
   "language": "python",
   "name": "python3"
  },
  "language_info": {
   "codemirror_mode": {
    "name": "ipython",
    "version": 3
   },
   "file_extension": ".py",
   "mimetype": "text/x-python",
   "name": "python",
   "nbconvert_exporter": "python",
   "pygments_lexer": "ipython3",
   "version": "3.8.3"
  }
 },
 "nbformat": 4,
 "nbformat_minor": 4
}
